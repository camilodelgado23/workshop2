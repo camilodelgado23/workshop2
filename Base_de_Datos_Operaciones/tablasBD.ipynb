{
 "cells": [
  {
   "cell_type": "markdown",
   "metadata": {},
   "source": [
    "#### Agregamos el directorio raíz al sys.path para permitir importaciones con mayor facilidad"
   ]
  },
  {
   "cell_type": "code",
   "execution_count": 1,
   "metadata": {},
   "outputs": [],
   "source": [
    "import sys\n",
    "import os\n",
    "\n",
    "notebook_dir = os.getcwd()\n",
    "root_dir = os.path.abspath(os.path.join(notebook_dir, '..'))\n",
    "sys.path.append(root_dir)"
   ]
  },
  {
   "cell_type": "markdown",
   "metadata": {},
   "source": [
    "#### Importamos la Conexion "
   ]
  },
  {
   "cell_type": "code",
   "execution_count": 2,
   "metadata": {},
   "outputs": [
    {
     "name": "stdout",
     "output_type": "stream",
     "text": [
      "Conectando con la Base de Datos...\n",
      "Conexion con la Base de Datos MySQL Lograda.\n"
     ]
    }
   ],
   "source": [
    "from Base_de_Datos_Operaciones.conexionBD import create_connection\n",
    "connection = create_connection()"
   ]
  },
  {
   "cell_type": "markdown",
   "metadata": {},
   "source": [
    "#### Creamos la tabla Grammys en la Base de Datos"
   ]
  },
  {
   "cell_type": "code",
   "execution_count": 3,
   "metadata": {},
   "outputs": [
    {
     "name": "stdout",
     "output_type": "stream",
     "text": [
      "Tabla Grammys creada exitosamente.\n"
     ]
    }
   ],
   "source": [
    "def create_grammys_table(connection):\n",
    "    create_table_query = \"\"\"\n",
    "    CREATE TABLE IF NOT EXISTS Grammys (\n",
    "        year INT NOT NULL,\n",
    "        title VARCHAR(255) NOT NULL,\n",
    "        published_at DATETIME NOT NULL,\n",
    "        updated_at DATETIME NOT NULL,\n",
    "        category VARCHAR(255) NOT NULL,\n",
    "        nominee VARCHAR(255) NOT NULL,\n",
    "        artist VARCHAR(255) NOT NULL,\n",
    "        workers TEXT,\n",
    "        img VARCHAR(400),\n",
    "        winner BOOLEAN NOT NULL\n",
    "    );\n",
    "    \"\"\"\n",
    "    try:\n",
    "        cursor = connection.cursor()\n",
    "        cursor.execute(create_table_query)\n",
    "        connection.commit()\n",
    "        print(\"Tabla Grammys creada exitosamente.\")\n",
    "    except Exception as e:\n",
    "        print(f\"An error occurred: {e}\")\n",
    "    finally:\n",
    "        if connection.is_connected():\n",
    "            cursor.close()\n",
    "\n",
    "create_grammys_table(connection)"
   ]
  }
 ],
 "metadata": {
  "kernelspec": {
   "display_name": "venv",
   "language": "python",
   "name": "python3"
  },
  "language_info": {
   "codemirror_mode": {
    "name": "ipython",
    "version": 3
   },
   "file_extension": ".py",
   "mimetype": "text/x-python",
   "name": "python",
   "nbconvert_exporter": "python",
   "pygments_lexer": "ipython3",
   "version": "3.10.12"
  }
 },
 "nbformat": 4,
 "nbformat_minor": 2
}
