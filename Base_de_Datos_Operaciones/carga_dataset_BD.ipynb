{
 "cells": [
  {
   "cell_type": "markdown",
   "metadata": {},
   "source": [
    "# Carga Dataset Grammys "
   ]
  },
  {
   "cell_type": "markdown",
   "metadata": {},
   "source": [
    "En este jupyter Notebook se carga el dataset de los Grammys a la tabla de los Grammys en la Base de Datos"
   ]
  },
  {
   "cell_type": "markdown",
   "metadata": {},
   "source": [
    "#### Cambiamos el directorio raíz del proyecto para facilitar la carga de los datasets y las importaciones"
   ]
  },
  {
   "cell_type": "code",
   "execution_count": 1,
   "metadata": {},
   "outputs": [
    {
     "name": "stdout",
     "output_type": "stream",
     "text": [
      "Directorio de trabajo actual después del cambio: /home/user/workshop2/workshop2\n"
     ]
    }
   ],
   "source": [
    "import os\n",
    "\n",
    "notebook_dir = os.getcwd()\n",
    "root_dir = os.path.abspath(os.path.join(notebook_dir, '..'))\n",
    "os.chdir(root_dir)\n",
    "\n",
    "print(\"Directorio de trabajo actual después del cambio:\", os.getcwd())"
   ]
  },
  {
   "cell_type": "markdown",
   "metadata": {},
   "source": [
    "#### Importamos la Conexion "
   ]
  },
  {
   "cell_type": "code",
   "execution_count": 2,
   "metadata": {},
   "outputs": [
    {
     "name": "stdout",
     "output_type": "stream",
     "text": [
      "Conectando con la Base de Datos...\n",
      "Conexion con la Base de Datos MySQL Lograda.\n"
     ]
    }
   ],
   "source": [
    "import pandas as pd  \n",
    "from Base_de_Datos_Operaciones.conexionBD import create_connection\n",
    "\n",
    "connection = create_connection()"
   ]
  },
  {
   "cell_type": "markdown",
   "metadata": {},
   "source": [
    "#### Cargamos el Dataset Grammys Original "
   ]
  },
  {
   "cell_type": "code",
   "execution_count": 3,
   "metadata": {},
   "outputs": [],
   "source": [
    "Dataset_Grammys = pd.read_csv('csv/the_grammy_awards.csv', delimiter=',')"
   ]
  },
  {
   "cell_type": "markdown",
   "metadata": {},
   "source": [
    "#### Remplazamos NaN con valores predeterminados para que no interfieran con la insercion "
   ]
  },
  {
   "cell_type": "code",
   "execution_count": 4,
   "metadata": {},
   "outputs": [],
   "source": [
    "Dataset_Grammys = Dataset_Grammys.fillna({\n",
    "    'year': 'Unknown',  \n",
    "    'title': 'Unknown',  \n",
    "    'published_at': 'Unknown',  \n",
    "    'updated_at': 'Unknown',  \n",
    "    'category': 'Unknown',  \n",
    "    'nominee': 'Unknown',  \n",
    "    'artist': 'Unknown',  \n",
    "    'workers': 'Unknown',  \n",
    "    'img': 'Unknown',  \n",
    "    'winner': False  \n",
    "})"
   ]
  },
  {
   "cell_type": "markdown",
   "metadata": {},
   "source": [
    "#### Lo insertamos en la tabla Grammys"
   ]
  },
  {
   "cell_type": "code",
   "execution_count": 5,
   "metadata": {},
   "outputs": [
    {
     "name": "stdout",
     "output_type": "stream",
     "text": [
      "Datos insertados correctamente.\n"
     ]
    }
   ],
   "source": [
    "if connection is not None:\n",
    "    cursor = connection.cursor()\n",
    "\n",
    "    insert_query = \"\"\"\n",
    "    INSERT INTO Grammys (year, title, published_at, updated_at, category, nominee, artist, workers, img, winner)\n",
    "    VALUES (%s, %s, %s, %s, %s, %s, %s, %s, %s, %s)\n",
    "    \"\"\"\n",
    "\n",
    "    data = Dataset_Grammys.values.tolist()\n",
    "\n",
    "    try:\n",
    "        cursor.executemany(insert_query, data)\n",
    "        connection.commit()\n",
    "        print(\"Datos insertados correctamente.\")\n",
    "    except Exception as e:\n",
    "        print(f\"Error al insertar datos: {e}\")\n",
    "    finally:\n",
    "        cursor.close()\n",
    "        connection.close()"
   ]
  }
 ],
 "metadata": {
  "kernelspec": {
   "display_name": "venv",
   "language": "python",
   "name": "python3"
  },
  "language_info": {
   "codemirror_mode": {
    "name": "ipython",
    "version": 3
   },
   "file_extension": ".py",
   "mimetype": "text/x-python",
   "name": "python",
   "nbconvert_exporter": "python",
   "pygments_lexer": "ipython3",
   "version": "3.10.12"
  }
 },
 "nbformat": 4,
 "nbformat_minor": 2
}
