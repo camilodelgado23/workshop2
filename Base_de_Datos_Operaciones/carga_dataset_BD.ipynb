{
 "cells": [
  {
   "cell_type": "markdown",
   "metadata": {},
   "source": [
    "#### Cambiamos el directorio raíz del proyecto para facilitar la carga de los datasets y las importaciones"
   ]
  },
  {
   "cell_type": "code",
   "execution_count": 2,
   "metadata": {},
   "outputs": [
    {
     "name": "stdout",
     "output_type": "stream",
     "text": [
      "Directorio de trabajo actual después del cambio: /home/cami/workshop2\n"
     ]
    }
   ],
   "source": [
    "import os\n",
    "\n",
    "notebook_dir = os.getcwd()\n",
    "root_dir = os.path.abspath(os.path.join(notebook_dir, '..'))\n",
    "os.chdir(root_dir)\n",
    "\n",
    "print(\"Directorio de trabajo actual después del cambio:\", os.getcwd())"
   ]
  },
  {
   "cell_type": "markdown",
   "metadata": {},
   "source": [
    "#### Importamos la Conexion "
   ]
  },
  {
   "cell_type": "code",
   "execution_count": 71,
   "metadata": {},
   "outputs": [
    {
     "name": "stdout",
     "output_type": "stream",
     "text": [
      "Conectando con la Base de Datos...\n",
      "Conexion con la Base de Datos MySQL Lograda.\n"
     ]
    }
   ],
   "source": [
    "import pandas as pd  \n",
    "from Base_de_Datos_Operaciones.conexionBD import create_connection\n",
    "\n",
    "connection = create_connection()"
   ]
  },
  {
   "cell_type": "markdown",
   "metadata": {},
   "source": [
    "#### Cargamos nuestro Dataset Spotify Original"
   ]
  },
  {
   "cell_type": "code",
   "execution_count": 50,
   "metadata": {},
   "outputs": [],
   "source": [
    "Dataset_Spotify = pd.read_csv('csv/spotify_dataset.csv', delimiter=',')"
   ]
  },
  {
   "cell_type": "markdown",
   "metadata": {},
   "source": [
    "#### Eliminamos la Primera columna del dataset que interrumpe la insersion "
   ]
  },
  {
   "cell_type": "code",
   "execution_count": 51,
   "metadata": {},
   "outputs": [
    {
     "name": "stdout",
     "output_type": "stream",
     "text": [
      "Columnas del DataFrame: ['track_id', 'artists', 'album_name', 'track_name', 'popularity', 'duration_ms', 'explicit', 'danceability', 'energy', 'key', 'loudness', 'mode', 'speechiness', 'acousticness', 'instrumentalness', 'liveness', 'valence', 'tempo', 'time_signature', 'track_genre']\n"
     ]
    }
   ],
   "source": [
    "# Eliminar la columna 'Unnamed: 0' si existe\n",
    "if 'Unnamed: 0' in Dataset_Spotify.columns:\n",
    "    Dataset_Spotify = Dataset_Spotify.drop(columns=['Unnamed: 0'])\n",
    "\n",
    "# Verificar columnas del DataFrame\n",
    "print(\"Columnas del DataFrame:\", Dataset_Spotify.columns.tolist())"
   ]
  },
  {
   "cell_type": "markdown",
   "metadata": {},
   "source": [
    "#### Convertimos la columna track_id a entero "
   ]
  },
  {
   "cell_type": "code",
   "execution_count": 52,
   "metadata": {},
   "outputs": [],
   "source": [
    "# Convertir la columna 'track_id' a entero y manejar posibles errores\n",
    "Dataset_Spotify['track_id'] = pd.to_numeric(Dataset_Spotify['track_id'], errors='coerce', downcast='integer')"
   ]
  },
  {
   "cell_type": "markdown",
   "metadata": {},
   "source": [
    "#### Remplazamos los valores NaN con valores predeterminados "
   ]
  },
  {
   "cell_type": "code",
   "execution_count": 53,
   "metadata": {},
   "outputs": [],
   "source": [
    "# Reemplazar NaN con valores predeterminados\n",
    "Dataset_Spotify = Dataset_Spotify.fillna({\n",
    "    'track_id': 0,  # Valor por defecto para enteros\n",
    "    'artists': 'Unknown',\n",
    "    'album_name': 'Unknown',\n",
    "    'track_name': 'Unknown',\n",
    "    'popularity': 0,\n",
    "    'duration_ms': 0,\n",
    "    'explicit': False,\n",
    "    'danceability': 0.0,\n",
    "    'energy': 0.0,\n",
    "    'key': 0,\n",
    "    'loudness': 0.0,\n",
    "    'mode': 0,\n",
    "    'speechiness': 0.0,\n",
    "    'acousticness': 0.0,\n",
    "    'instrumentalness': 0.0,\n",
    "    'liveness': 0.0,\n",
    "    'valence': 0.0,\n",
    "    'tempo': 0.0,\n",
    "    'time_signature': 0,\n",
    "    'track_genre': 'Unknown'\n",
    "})\n"
   ]
  },
  {
   "cell_type": "markdown",
   "metadata": {},
   "source": [
    "#### Lo insertamos en la tabla Spotify"
   ]
  },
  {
   "cell_type": "code",
   "execution_count": 62,
   "metadata": {},
   "outputs": [
    {
     "name": "stdout",
     "output_type": "stream",
     "text": [
      "Datos insertados correctamente.\n"
     ]
    }
   ],
   "source": [
    "if connection is not None:\n",
    "    cursor = connection.cursor()\n",
    "\n",
    "    insert_query = \"\"\"\n",
    "    INSERT INTO Spotify (track_id, artists, album_name, track_name, popularity, duration_ms, explicit, danceability, energy, `key`, loudness, mode, speechiness, acousticness, instrumentalness, liveness, valence, tempo, time_signature, track_genre)\n",
    "    VALUES (%s, %s, %s, %s, %s, %s, %s, %s, %s, %s, %s, %s, %s, %s, %s, %s, %s, %s, %s, %s)\n",
    "    \"\"\"\n",
    "    \n",
    "    data = Dataset_Spotify.values.tolist()\n",
    "\n",
    "    try:\n",
    "        cursor.executemany(insert_query, data)\n",
    "        connection.commit()\n",
    "        print(\"Datos insertados correctamente.\")\n",
    "    except Exception as e:\n",
    "        print(f\"Error al insertar datos: {e}\")\n",
    "    finally:\n",
    "        cursor.close()\n",
    "        connection.close()"
   ]
  },
  {
   "cell_type": "markdown",
   "metadata": {},
   "source": [
    "#### Cargamos el Dataset Grammys Original "
   ]
  },
  {
   "cell_type": "code",
   "execution_count": 64,
   "metadata": {},
   "outputs": [],
   "source": [
    "Dataset_Grammys = pd.read_csv('csv/the_grammy_awards.csv', delimiter=',')"
   ]
  },
  {
   "cell_type": "markdown",
   "metadata": {},
   "source": [
    "#### Remplazamos NaN con valores predeterminados para que no interfieran con la insercion "
   ]
  },
  {
   "cell_type": "code",
   "execution_count": 69,
   "metadata": {},
   "outputs": [],
   "source": [
    "Dataset_Grammys = Dataset_Grammys.fillna({\n",
    "    'year': 'Unknown',  \n",
    "    'title': 'Unknown',  \n",
    "    'published_at': 'Unknown',  \n",
    "    'updated_at': 'Unknown',  \n",
    "    'category': 'Unknown',  \n",
    "    'nominee': 'Unknown',  \n",
    "    'artist': 'Unknown',  \n",
    "    'workers': 'Unknown',  \n",
    "    'img': 'Unknown',  \n",
    "    'winner': False  \n",
    "})"
   ]
  },
  {
   "cell_type": "markdown",
   "metadata": {},
   "source": [
    "#### Lo insertamos en la tabla Grammys"
   ]
  },
  {
   "cell_type": "code",
   "execution_count": 72,
   "metadata": {},
   "outputs": [
    {
     "name": "stdout",
     "output_type": "stream",
     "text": [
      "Datos insertados correctamente.\n"
     ]
    }
   ],
   "source": [
    "if connection is not None:\n",
    "    cursor = connection.cursor()\n",
    "\n",
    "    insert_query = \"\"\"\n",
    "    INSERT INTO Grammys (year, title, published_at, updated_at, category, nominee, artist, workers, img, winner)\n",
    "    VALUES (%s, %s, %s, %s, %s, %s, %s, %s, %s, %s)\n",
    "    \"\"\"\n",
    "\n",
    "    data = Dataset_Grammys.values.tolist()\n",
    "\n",
    "    try:\n",
    "        cursor.executemany(insert_query, data)\n",
    "        connection.commit()\n",
    "        print(\"Datos insertados correctamente.\")\n",
    "    except Exception as e:\n",
    "        print(f\"Error al insertar datos: {e}\")\n",
    "    finally:\n",
    "        cursor.close()\n",
    "        connection.close()"
   ]
  }
 ],
 "metadata": {
  "kernelspec": {
   "display_name": "venv",
   "language": "python",
   "name": "python3"
  },
  "language_info": {
   "codemirror_mode": {
    "name": "ipython",
    "version": 3
   },
   "file_extension": ".py",
   "mimetype": "text/x-python",
   "name": "python",
   "nbconvert_exporter": "python",
   "pygments_lexer": "ipython3",
   "version": "3.10.12"
  }
 },
 "nbformat": 4,
 "nbformat_minor": 2
}
